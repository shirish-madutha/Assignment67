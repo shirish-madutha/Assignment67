{
 "cells": [
  {
   "cell_type": "code",
   "execution_count": null,
   "id": "0bf02123-7132-45f8-bd84-9759d3cf683b",
   "metadata": {},
   "outputs": [],
   "source": [
    "\"\"\" Q1. What are Eigenvalues and Eigenvectors? How are they related to the Eigen-Decomposition approach?\n",
    "Explain with an example. \"\"\"\n",
    "\n",
    "# ans\n",
    "\"\"\" Eigenvalues and Eigenvectors:\n",
    "Eigenvalues and eigenvectors are concepts in linear algebra associated with square matrices. Given a square matrix A, a non-zero vector v is an eigenvector of A if the product Av is a scalar multiple of v. The scalar multiple is the eigenvalue corresponding to that eigenvector. Mathematically, Av=λv, where λ is the eigenvalue.\n",
    "\n",
    "Example:\n",
    "Consider the matrix A=[4213]. The vector = [11] is an eigenvector, and its corresponding eigenvalue is λ=5 because Av=5v. \"\"\""
   ]
  },
  {
   "cell_type": "code",
   "execution_count": null,
   "id": "bd2912df-9bf7-4a12-8b49-f6d007352be2",
   "metadata": {},
   "outputs": [],
   "source": [
    "\"\"\" Q2. What is eigen decomposition and what is its significance in linear algebra? \"\"\"\n",
    "\n",
    "# ans\n",
    "\"\"\" Eigen decomposition is a factorization of a square matrix A into a product of eigenvectors and eigenvalues. For a matrix A, it can be decomposed as A=PDP −1, where P is a matrix composed of eigenvectors of A, and D is a diagonal matrix containing the corresponding eigenvalues. \"\"\""
   ]
  },
  {
   "cell_type": "code",
   "execution_count": null,
   "id": "5442f102-4801-4b14-91c5-a3a6b6a41aad",
   "metadata": {},
   "outputs": [],
   "source": [
    "\"\"\" Q3. What are the conditions that must be satisfied for a square matrix to be diagonalizable using the\n",
    "Eigen-Decomposition approach? Provide a brief proof to support your answer.x \"\"\"\n",
    "\n",
    "# ans\n",
    "\"\"\" Conditions for Diagonalizability:\n",
    "A square matrix A is diagonalizable if and only if it has n linearly independent eigenvectors, where n is the size of the matrix.\n",
    "\n",
    "Proof Sketch:\n",
    "If A has n linearly independent eigenvectors, then P in the eigen decomposition A=PDP−1  will have n linearly independent columns, making P invertible. Conversely, if A is diagonalizable, then P has n linearly independent columns, implying n linearly independent eigenvectors.\n",
    "\"\"\""
   ]
  },
  {
   "cell_type": "code",
   "execution_count": null,
   "id": "05992f26-dfb6-4621-bc95-b2f3762ff9f6",
   "metadata": {},
   "outputs": [],
   "source": [
    "\"\"\" Q4. What is the significance of the spectral theorem in the context of the Eigen-Decomposition approach?\n",
    "How is it related to the diagonalizability of a matrix? Explain with an example. \"\"\"\n",
    "\n",
    "# ans\n",
    "\"\"\" The Spectral Theorem states that for a symmetric matrix, the eigenvectors are orthogonal, and the matrix is diagonalizable. This is significant in the context of eigen decomposition as it ensures that for a symmetric matrix A, A=PDP T , where P is an orthogonal matrix. \"\"\""
   ]
  },
  {
   "cell_type": "code",
   "execution_count": null,
   "id": "4466d1b0-df6b-4387-aad2-c33d09dce3e3",
   "metadata": {},
   "outputs": [],
   "source": [
    "\"\"\" Q5. How do you find the eigenvalues of a matrix and what do they represent? \"\"\"\n",
    "\n",
    "# ans\n",
    "\"\"\" Finding Eigenvalues:\n",
    "Eigenvalues can be found by solving the characteristic equation det(A−λI)=0, where A is the matrix, λ is the eigenvalue, and I is the identity matrix. \"\"\""
   ]
  },
  {
   "cell_type": "code",
   "execution_count": null,
   "id": "93c3ce00-f469-4c36-ab54-ca5355b88588",
   "metadata": {},
   "outputs": [],
   "source": [
    "\"\"\" Q6. What are eigenvectors and how are they related to eigenvalues? \"\"\"\n",
    "\n",
    "# ans\n",
    "\"\"\" Eigenvectors and Eigenvalues:\n",
    "Eigenvectors are non-zero vectors that, when transformed by a matrix, only scale by a corresponding eigenvalue. If Av=λv, v is the eigenvector, and λ is the eigenvalue. \"\"\""
   ]
  },
  {
   "cell_type": "code",
   "execution_count": null,
   "id": "e8842b5f-3121-43f1-a33e-56d407f0172b",
   "metadata": {},
   "outputs": [],
   "source": [
    "\"\"\" Q7. Can you explain the geometric interpretation of eigenvectors and eigenvalues? \"\"\"\n",
    "\n",
    "# ans\n",
    "\"\"\" Geometric Interpretation:\n",
    "Eigenvectors represent directions in which a linear transformation only stretches or compresses the space, without changing its orientation. Eigenvalues indicate the scale factor by which the transformation occurs along these directions. \"\"\""
   ]
  },
  {
   "cell_type": "code",
   "execution_count": null,
   "id": "3b0eb971-94d4-4b9e-ae72-b146a40f44c6",
   "metadata": {},
   "outputs": [],
   "source": [
    "\"\"\" Q8. What are some real-world applications of eigen decomposition? \"\"\"\n",
    "\n",
    "# ans\n",
    "\"\"\" Principal Component Analysis (PCA): Uses eigendecomposition for dimensionality reduction.\n",
    "Quantum Mechanics: Eigendecomposition is fundamental in quantum mechanics for representing states and observables.\n",
    "Vibrations Analysis: Studying natural frequencies and modes of vibrating structures. \"\"\""
   ]
  },
  {
   "cell_type": "code",
   "execution_count": null,
   "id": "5863f1f3-7a3d-4a60-9b84-c4630f2def4f",
   "metadata": {},
   "outputs": [],
   "source": [
    "\"\"\" Q9. Can a matrix have more than one set of eigenvectors and eigenvalues?  \"\"\"\n",
    "\n",
    "# ans\n",
    "\"\"\" Multiple Sets of Eigenvectors and Eigenvalues:\n",
    "A matrix may have different sets of linearly independent eigenvectors corresponding to the same set of eigenvalues. \"\"\""
   ]
  },
  {
   "cell_type": "code",
   "execution_count": null,
   "id": "57e75e73-a696-4e78-a288-3410015b87d6",
   "metadata": {},
   "outputs": [],
   "source": [
    "\"\"\" Q10. In what ways is the Eigen-Decomposition approach useful in data analysis and machine learning?\n",
    "Discuss at least three specific applications or techniques that rely on Eigen-Decomposition. \"\"\"\n",
    "\n",
    "# ans\n",
    "\"\"\" Principal Component Analysis (PCA): Reducing dimensionality in feature space.\n",
    "Eigenfaces in Facial Recognition: Representing facial images as eigenvectors.\n",
    "Google's PageRank Algorithm: Eigenvalues help determine the importance of web pages in the algorithm. \"\"\""
   ]
  }
 ],
 "metadata": {
  "kernelspec": {
   "display_name": "Python 3 (ipykernel)",
   "language": "python",
   "name": "python3"
  },
  "language_info": {
   "codemirror_mode": {
    "name": "ipython",
    "version": 3
   },
   "file_extension": ".py",
   "mimetype": "text/x-python",
   "name": "python",
   "nbconvert_exporter": "python",
   "pygments_lexer": "ipython3",
   "version": "3.10.8"
  }
 },
 "nbformat": 4,
 "nbformat_minor": 5
}
